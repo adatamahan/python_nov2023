{
 "cells": [
  {
   "cell_type": "markdown",
   "id": "dacf74e6",
   "metadata": {},
   "source": [
    "# NumPy"
   ]
  },
  {
   "cell_type": "markdown",
   "id": "01b2bf34",
   "metadata": {},
   "source": [
    "Read the links: https://numpy.org/doc/stable/user/quickstart.html  and https://numpy.org/doc/stable/user/basics.broadcasting.html  before solving the exercises. "
   ]
  },
  {
   "cell_type": "code",
   "execution_count": 1,
   "id": "1f79e4a6",
   "metadata": {},
   "outputs": [],
   "source": [
    "import numpy as np"
   ]
  },
  {
   "cell_type": "markdown",
   "id": "7dae6889",
   "metadata": {},
   "source": [
    "### Print out the dimension (number of axes), shape, size and the datatype of the matrix A."
   ]
  },
  {
   "cell_type": "code",
   "execution_count": 2,
   "id": "7b3678cd",
   "metadata": {},
   "outputs": [],
   "source": [
    "A = np.arange(1, 16).reshape(3,5) "
   ]
  },
  {
   "cell_type": "code",
   "execution_count": 3,
   "id": "31d39235",
   "metadata": {},
   "outputs": [
    {
     "name": "stdout",
     "output_type": "stream",
     "text": [
      "[[ 1  2  3  4  5]\n",
      " [ 6  7  8  9 10]\n",
      " [11 12 13 14 15]]\n",
      "Number of axes = 2\n",
      "The shape of A = (3, 5)\n",
      "The size (amount of elements) in A = 15\n",
      "A's datatype = int32\n"
     ]
    }
   ],
   "source": [
    "print(A) \n",
    "print(f\"Number of axes =\", A.ndim) \n",
    "print(f\"The shape of A =\", A.shape) \n",
    "print(f\"The size (amount of elements) in A =\", A.size) \n",
    "print(f\"A's datatype =\", A.dtype) "
   ]
  },
  {
   "cell_type": "markdown",
   "id": "e56d2a96",
   "metadata": {},
   "source": [
    "### Do the following computations on the matrices B and C: \n",
    "* Elementwise subtraction. \n",
    "* Elementwise multiplication. \n",
    "* Matrix multiplication (by default you should use the @ operator)."
   ]
  },
  {
   "cell_type": "code",
   "execution_count": 4,
   "id": "a7053fbb",
   "metadata": {},
   "outputs": [],
   "source": [
    "B = np.arange(1, 10).reshape(3, 3)  \n",
    "C = np.ones((3, 3))*2 "
   ]
  },
  {
   "cell_type": "code",
   "execution_count": 5,
   "id": "3cd794ae",
   "metadata": {},
   "outputs": [
    {
     "data": {
      "text/plain": [
       "array([[-1.,  0.,  1.],\n",
       "       [ 2.,  3.,  4.],\n",
       "       [ 5.,  6.,  7.]])"
      ]
     },
     "execution_count": 5,
     "metadata": {},
     "output_type": "execute_result"
    }
   ],
   "source": [
    "B - C"
   ]
  },
  {
   "cell_type": "code",
   "execution_count": 6,
   "id": "be0e195a",
   "metadata": {},
   "outputs": [
    {
     "data": {
      "text/plain": [
       "array([[ 2.,  4.,  6.],\n",
       "       [ 8., 10., 12.],\n",
       "       [14., 16., 18.]])"
      ]
     },
     "execution_count": 6,
     "metadata": {},
     "output_type": "execute_result"
    }
   ],
   "source": [
    "B * C"
   ]
  },
  {
   "cell_type": "code",
   "execution_count": 7,
   "id": "2212b2cd",
   "metadata": {},
   "outputs": [
    {
     "data": {
      "text/plain": [
       "array([[12., 12., 12.],\n",
       "       [30., 30., 30.],\n",
       "       [48., 48., 48.]])"
      ]
     },
     "execution_count": 7,
     "metadata": {},
     "output_type": "execute_result"
    }
   ],
   "source": [
    "B @ C"
   ]
  },
  {
   "cell_type": "markdown",
   "id": "96030d53",
   "metadata": {},
   "source": [
    "### Do the following calculations on the matrix:\n",
    "* Exponentiate each number elementwise (use the np.exp function).\n",
    "\n",
    "* Calculate the minimum value in the whole matrix. \n",
    "* Calculcate the minimum value in each row. \n",
    "* Calculcate the minimum value in each column. \n",
    "\n",
    "\n",
    "* Find the index value for the minimum value in the whole matrix (hint: use np.argmin).\n",
    "* Find the index value for the minimum value in each row (hint: use np.argmin).\n",
    "\n",
    "\n",
    "* Calculate the sum for all elements.\n",
    "* Calculate the mean for each column. \n",
    "* Calculate the median for each column. "
   ]
  },
  {
   "cell_type": "code",
   "execution_count": 8,
   "id": "f8a9166b",
   "metadata": {},
   "outputs": [
    {
     "name": "stdout",
     "output_type": "stream",
     "text": [
      "[[1 2 3]\n",
      " [4 5 6]\n",
      " [7 8 9]]\n"
     ]
    }
   ],
   "source": [
    "B = np.arange(1, 10).reshape(3, 3)\n",
    "print(B)"
   ]
  },
  {
   "cell_type": "code",
   "execution_count": 9,
   "id": "f03f24f7",
   "metadata": {},
   "outputs": [
    {
     "data": {
      "text/plain": [
       "array([[2.71828183e+00, 7.38905610e+00, 2.00855369e+01],\n",
       "       [5.45981500e+01, 1.48413159e+02, 4.03428793e+02],\n",
       "       [1.09663316e+03, 2.98095799e+03, 8.10308393e+03]])"
      ]
     },
     "execution_count": 9,
     "metadata": {},
     "output_type": "execute_result"
    }
   ],
   "source": [
    "np.exp(B)"
   ]
  },
  {
   "cell_type": "code",
   "execution_count": 10,
   "id": "a0ece260",
   "metadata": {},
   "outputs": [
    {
     "data": {
      "text/plain": [
       "1"
      ]
     },
     "execution_count": 10,
     "metadata": {},
     "output_type": "execute_result"
    }
   ],
   "source": [
    "B.min()"
   ]
  },
  {
   "cell_type": "code",
   "execution_count": 11,
   "id": "c30abc38",
   "metadata": {},
   "outputs": [
    {
     "data": {
      "text/plain": [
       "array([1, 4, 7])"
      ]
     },
     "execution_count": 11,
     "metadata": {},
     "output_type": "execute_result"
    }
   ],
   "source": [
    "B.min(axis=1)"
   ]
  },
  {
   "cell_type": "code",
   "execution_count": 12,
   "id": "da69c93c",
   "metadata": {},
   "outputs": [
    {
     "data": {
      "text/plain": [
       "array([1, 2, 3])"
      ]
     },
     "execution_count": 12,
     "metadata": {},
     "output_type": "execute_result"
    }
   ],
   "source": [
    "B.min(axis=0)"
   ]
  },
  {
   "cell_type": "code",
   "execution_count": 13,
   "id": "eebaccbe",
   "metadata": {},
   "outputs": [
    {
     "data": {
      "text/plain": [
       "0"
      ]
     },
     "execution_count": 13,
     "metadata": {},
     "output_type": "execute_result"
    }
   ],
   "source": [
    "np.argmin(B)"
   ]
  },
  {
   "cell_type": "code",
   "execution_count": 14,
   "id": "a359d579",
   "metadata": {},
   "outputs": [
    {
     "data": {
      "text/plain": [
       "array([0, 0, 0], dtype=int64)"
      ]
     },
     "execution_count": 14,
     "metadata": {},
     "output_type": "execute_result"
    }
   ],
   "source": [
    "np.argmin(B, axis=1)"
   ]
  },
  {
   "cell_type": "code",
   "execution_count": 15,
   "id": "5cb04de4",
   "metadata": {},
   "outputs": [
    {
     "data": {
      "text/plain": [
       "45"
      ]
     },
     "execution_count": 15,
     "metadata": {},
     "output_type": "execute_result"
    }
   ],
   "source": [
    "B.sum()"
   ]
  },
  {
   "cell_type": "code",
   "execution_count": 16,
   "id": "9bbb4af4",
   "metadata": {},
   "outputs": [
    {
     "data": {
      "text/plain": [
       "array([4., 5., 6.])"
      ]
     },
     "execution_count": 16,
     "metadata": {},
     "output_type": "execute_result"
    }
   ],
   "source": [
    "np.mean(B, axis=0)"
   ]
  },
  {
   "cell_type": "code",
   "execution_count": 17,
   "id": "c7bf13e3",
   "metadata": {},
   "outputs": [
    {
     "data": {
      "text/plain": [
       "array([4., 5., 6.])"
      ]
     },
     "execution_count": 17,
     "metadata": {},
     "output_type": "execute_result"
    }
   ],
   "source": [
    "np.median(B, axis=0)"
   ]
  },
  {
   "cell_type": "markdown",
   "id": "541eb7ba",
   "metadata": {},
   "source": [
    "### What does it mean when you provide fewer indices than axes when slicing? See example below."
   ]
  },
  {
   "cell_type": "code",
   "execution_count": 18,
   "id": "9c8abf56",
   "metadata": {},
   "outputs": [
    {
     "name": "stdout",
     "output_type": "stream",
     "text": [
      "[[ 1  2  3  4  5]\n",
      " [ 6  7  8  9 10]\n",
      " [11 12 13 14 15]]\n"
     ]
    }
   ],
   "source": [
    "print(A)"
   ]
  },
  {
   "cell_type": "code",
   "execution_count": 19,
   "id": "69415f7b",
   "metadata": {},
   "outputs": [
    {
     "data": {
      "text/plain": [
       "array([ 6,  7,  8,  9, 10])"
      ]
     },
     "execution_count": 19,
     "metadata": {},
     "output_type": "execute_result"
    }
   ],
   "source": [
    "A[1]"
   ]
  },
  {
   "cell_type": "markdown",
   "id": "6c53541b",
   "metadata": {},
   "source": [
    "**Answer:**"
   ]
  },
  {
   "cell_type": "markdown",
   "id": "beaecf29",
   "metadata": {},
   "source": [
    "When fewer indices are provided than the number of axes, the missing indices are considered complete slices, and you will get the whole row with all the column values for that row - like above. "
   ]
  },
  {
   "cell_type": "markdown",
   "id": "6652d0c9",
   "metadata": {},
   "source": [
    "### Iterating over multidimensional arrays is done with respect to the first axis, so in the example below we iterate trough the rows. If you would like to iterate through the array *elementwise*, how would you do that?"
   ]
  },
  {
   "cell_type": "code",
   "execution_count": 20,
   "id": "9459864f",
   "metadata": {},
   "outputs": [
    {
     "data": {
      "text/plain": [
       "array([[ 1,  2,  3,  4,  5],\n",
       "       [ 6,  7,  8,  9, 10],\n",
       "       [11, 12, 13, 14, 15]])"
      ]
     },
     "execution_count": 20,
     "metadata": {},
     "output_type": "execute_result"
    }
   ],
   "source": [
    "A"
   ]
  },
  {
   "cell_type": "code",
   "execution_count": 21,
   "id": "a671bb5a",
   "metadata": {},
   "outputs": [
    {
     "name": "stdout",
     "output_type": "stream",
     "text": [
      "[1 2 3 4 5]\n",
      "[ 6  7  8  9 10]\n",
      "[11 12 13 14 15]\n"
     ]
    }
   ],
   "source": [
    "for i in A:\n",
    "    print(i)"
   ]
  },
  {
   "cell_type": "code",
   "execution_count": 22,
   "id": "f4e443a0",
   "metadata": {},
   "outputs": [
    {
     "name": "stdout",
     "output_type": "stream",
     "text": [
      "1\n",
      "2\n",
      "3\n",
      "4\n",
      "5\n",
      "6\n",
      "7\n",
      "8\n",
      "9\n",
      "10\n",
      "11\n",
      "12\n",
      "13\n",
      "14\n",
      "15\n"
     ]
    }
   ],
   "source": [
    "for element in A.flat:\n",
    "    print(element)"
   ]
  },
  {
   "cell_type": "markdown",
   "id": "608a2583",
   "metadata": {},
   "source": [
    "### Explain what the code below does. More specifically, b has three axes - what does this mean? "
   ]
  },
  {
   "cell_type": "code",
   "execution_count": 24,
   "id": "f8f9b26f",
   "metadata": {},
   "outputs": [
    {
     "name": "stdout",
     "output_type": "stream",
     "text": [
      "[ 0  1  2  3  4  5  6  7  8  9 10 11 12 13 14 15 16 17 18 19 20 21 22 23\n",
      " 24 25 26 27 28 29]\n",
      "\n",
      "[[[ 0  1  2  3  4]\n",
      "  [ 5  6  7  8  9]\n",
      "  [10 11 12 13 14]]\n",
      "\n",
      " [[15 16 17 18 19]\n",
      "  [20 21 22 23 24]\n",
      "  [25 26 27 28 29]]]\n"
     ]
    }
   ],
   "source": [
    "a = np.arange(30)            # it creates a flat array a with all numbers in one row from 0 up to 29\n",
    "b = a.reshape((2, 3, -1))    # it creates the array b from the array a's values and presents them with 3 dimensions. \n",
    "                             # 2 arrays each with 3 rows and 5 columns each\n",
    "                             # we can write -1 because the numbers of columns is determined by the two other set dimensions\n",
    "print(a)                     # we print the original flat array\n",
    "print()                      # print a space\n",
    "print(b)                     # we print array b with a's values in three dimensions"
   ]
  },
  {
   "cell_type": "markdown",
   "id": "ab5933d5",
   "metadata": {},
   "source": [
    "### Broadcasting\n",
    "**Read the following link about broadcasting: https://numpy.org/doc/stable/user/basics.broadcasting.html#basics-broadcasting**"
   ]
  },
  {
   "cell_type": "markdown",
   "id": "039805ba",
   "metadata": {},
   "source": [
    "# Remark on Broadcasting when doing Linear Algebra calculations in Python. "
   ]
  },
  {
   "cell_type": "markdown",
   "id": "c4bcc147",
   "metadata": {},
   "source": [
    "### From the mathematical rules of matrix addition, the operation below (m1 + m2) does not make sense. The reason is that matrix addition requires two matrices of the same size. In Python however, it works due to broadcasting rules in NumPy. So you must be careful when doing Linear Algebra calculations in Python since they do not follow the \"mathematical rules\". This can however easily be handled by doing some simple programming, for example validating that two matrices have the same shape is easy if you for instance want to add two matrices. "
   ]
  },
  {
   "cell_type": "code",
   "execution_count": 25,
   "id": "1fd46778",
   "metadata": {},
   "outputs": [
    {
     "name": "stdout",
     "output_type": "stream",
     "text": [
      "[[2 3]\n",
      " [4 5]]\n"
     ]
    }
   ],
   "source": [
    "m1 = np.array([[1, 2], [3, 4]])\n",
    "m2 = np.array([1, 1])\n",
    "print(m1 + m2)"
   ]
  },
  {
   "cell_type": "markdown",
   "id": "047d6576",
   "metadata": {},
   "source": [
    "### The example below would also not be allowed if following the \"mathematical rules\" in Linear Algebra. But it works due to broadcasting in NumPy. "
   ]
  },
  {
   "cell_type": "code",
   "execution_count": 26,
   "id": "5e6ef2e4",
   "metadata": {},
   "outputs": [
    {
     "name": "stdout",
     "output_type": "stream",
     "text": [
      "[2 3 4]\n"
     ]
    }
   ],
   "source": [
    "v1 = np.array([1, 2, 3])\n",
    "print(v1 + 1)"
   ]
  },
  {
   "cell_type": "code",
   "execution_count": 27,
   "id": "e2cbae26",
   "metadata": {},
   "outputs": [
    {
     "name": "stdout",
     "output_type": "stream",
     "text": [
      "[[1 2]\n",
      " [3 4]]\n",
      "[2 2]\n",
      "[[3 4]\n",
      " [5 6]]\n"
     ]
    }
   ],
   "source": [
    "A = np.arange(1, 5).reshape(2,2)\n",
    "print(A)\n",
    "\n",
    "b = np.array([2, 2])\n",
    "print(b)\n",
    "\n",
    "print( A + b)"
   ]
  },
  {
   "cell_type": "markdown",
   "id": "722fd5cd",
   "metadata": {},
   "source": [
    "# Linear Algebra Exercises"
   ]
  },
  {
   "cell_type": "markdown",
   "id": "b8935099",
   "metadata": {},
   "source": [
    "The exercies are taken from the \"Matrix Algebra for Engineers\" by Chasnov: https://www.math.hkust.edu.hk/~machas/matrix-algebra-for-engineers.pdf .\n",
    "\n",
    "Do the following exercises: \n",
    "* Chapter 2, exercise 1-3.\n",
    "* Quiz on p.11, exercise 2.  (p. 8 ?)\n",
    "* Chapter 6, exercise 1. \n",
    "* Quiz on p.19, exercise 3. \n",
    "\n",
    "\n",
    "* Chapter 10, exercise 1. \n",
    "* Chapter 12 exercise 1. \n"
   ]
  },
  {
   "cell_type": "code",
   "execution_count": 28,
   "id": "a452a77a",
   "metadata": {},
   "outputs": [
    {
     "name": "stdout",
     "output_type": "stream",
     "text": [
      "[[ 2  1 -1]\n",
      " [ 1 -1  1]]\n",
      "[[ 4 -2  1]\n",
      " [ 2 -4 -2]]\n",
      "[[1 2]\n",
      " [2 1]]\n",
      "[[3 4]\n",
      " [4 3]]\n",
      "[[1]\n",
      " [2]]\n"
     ]
    }
   ],
   "source": [
    "A = np.array([[2, 1, -1], [1, -1, 1]])\n",
    "B = np.array([[4, -2, 1], [2, -4, -2]])\n",
    "\n",
    "C = np.array([[1, 2], [2, 1]])\n",
    "D = np.array([[3, 4], [4, 3]])\n",
    "\n",
    "E = np.array([[1], [2]])\n",
    "\n",
    "print(A)\n",
    "print(B)\n",
    "print(C)\n",
    "print(D)\n",
    "print(E)"
   ]
  },
  {
   "cell_type": "markdown",
   "id": "9d8366cc",
   "metadata": {},
   "source": [
    "**Chap2. Question 1.**\n",
    "\n",
    "**Write a function \"add_mult_matrices\" that takes two matrices as input arguments (validate that the input are of the type numpy.ndarray by using the isinstance function), a third argument that is either 'add' or 'multiply' that specifies if you want to add or multiply the matrices (validate that the third argument is either 'add' or 'multiply'). When doing matrix addition, validate that the matrices have the same size. When doing matrix multiplication, validate that the sizes conform (i.e. number of columns in the first matrix is equal to the number of rows in the second matrix).**\n",
    "\n",
    "In this exercise, create a function that takes two matrices as input and either adds or multiplies them by specifying a argument as either 'add' or 'multiply'. Validate that both matrices taken as input are of the type ndarray (use the isinstance function)."
   ]
  },
  {
   "cell_type": "code",
   "execution_count": 32,
   "id": "535ee48c",
   "metadata": {},
   "outputs": [],
   "source": [
    "def add_mult_matrices(a, b, operation): \n",
    "    \n",
    "    if not isinstance(a, np.ndarray) or not isinstance(b, np.ndarray): \n",
    "        raise TypeError (\"Both arrays should be of the type nparrays\")\n",
    "    else:\n",
    "        if operation == \"add\":                      \n",
    "            if a.shape == b.shape:                   \n",
    "                return a + b\n",
    "            else:\n",
    "                return (\"Can not compute: The arrays should be of the same size\")\n",
    "        elif operation == \"multiply\":                    \n",
    "            if a.shape[1] == b.shape[0]:                                                 \n",
    "                return a @ b                        \n",
    "            else: \n",
    "                return \"Can not compute: Number of columns in array does not equal rows in array 2\"       "
   ]
  },
  {
   "cell_type": "code",
   "execution_count": 33,
   "id": "22448934",
   "metadata": {},
   "outputs": [
    {
     "name": "stdout",
     "output_type": "stream",
     "text": [
      "B-2A = \n",
      "  [[ 0 -4  3]\n",
      " [ 0 -2 -4]]\n",
      "3C-1E = \n",
      "  Can not compute: The arrays should be of the same size\n",
      "A*C = \n",
      "  Can not compute: Number of columns in array does not equal rows in array 2\n",
      "C*D = \n",
      "  [[11 10]\n",
      " [10 11]]\n",
      "C*B = \n",
      "  [[  8 -10  -3]\n",
      " [ 10  -8   0]]\n"
     ]
    }
   ],
   "source": [
    "# Compute if defined: B − 2A, 3C − E, AC, CD, CB\n",
    "\n",
    "print(f\"B-2A = \\n \",add_mult_matrices(B, -2*A, \"add\"))\n",
    "print(f\"3C-1E = \\n \",add_mult_matrices(3*C, -1*E, \"add\"))  \n",
    "print(f\"A*C = \\n \",add_mult_matrices(A, C, \"multiply\"))\n",
    "print(f\"C*D = \\n \",add_mult_matrices(C, D, \"multiply\"))\n",
    "print(f\"C*B = \\n \",add_mult_matrices(C, B, \"multiply\"))   "
   ]
  },
  {
   "cell_type": "markdown",
   "id": "5000c829",
   "metadata": {},
   "source": [
    "**Chap2. Question 2**   -     Verify that AB = AC and yet B ̸= C"
   ]
  },
  {
   "cell_type": "code",
   "execution_count": 34,
   "id": "44dab740",
   "metadata": {},
   "outputs": [
    {
     "name": "stdout",
     "output_type": "stream",
     "text": [
      "AB are equal to AC\n",
      "[[ 4  7]\n",
      " [ 8 14]]\n",
      "[[ 4  7]\n",
      " [ 8 14]]\n",
      "\n",
      "And yet, B and C are not the same\n",
      "[[2 1]\n",
      " [1 3]]\n",
      "[[4 3]\n",
      " [0 2]]\n"
     ]
    }
   ],
   "source": [
    "A = np.array([[1, 2], [2, 4]])  \n",
    "B = np.array([[2, 1], [1, 3]])\n",
    "C = np.array([[4, 3], [0, 2]])\n",
    "\n",
    "if np.array_equal(A @ B, A @ C):\n",
    "    print(\"AB are equal to AC\")\n",
    "else:\n",
    "    print(\"Not equal\")\n",
    "print(A @ B)\n",
    "print(A @ C)\n",
    "print()\n",
    "if np.array_equal(B, C):\n",
    "    print(\"B and C are the same\")\n",
    "else:\n",
    "    print(\"And yet, B and C are not the same\")\n",
    "print(B)\n",
    "print(C)"
   ]
  },
  {
   "cell_type": "markdown",
   "id": "a7f5b140",
   "metadata": {},
   "source": [
    "**Chap2. Question 3**    - Compute AD and DA"
   ]
  },
  {
   "cell_type": "code",
   "execution_count": 35,
   "id": "668b1323",
   "metadata": {},
   "outputs": [
    {
     "name": "stdout",
     "output_type": "stream",
     "text": [
      "[[ 2  3  4]\n",
      " [ 2  6 12]\n",
      " [ 2  9 16]]\n",
      "\n",
      "[[ 2  2  2]\n",
      " [ 3  6  9]\n",
      " [ 4 12 16]]\n"
     ]
    }
   ],
   "source": [
    "A = np.array([[1, 1, 1], [1, 2, 3],  [1, 3, 4]])  \n",
    "D = np.array([[2, 0, 0], [0, 3, 0],  [0, 0, 4]])\n",
    "\n",
    "print(A @ D)               \n",
    "print()\n",
    "print(D @ A)"
   ]
  },
  {
   "cell_type": "markdown",
   "id": "334ca623",
   "metadata": {},
   "source": [
    "**Quiz p.11, Question 2** - p.8 - What are the matrix product A1*A2 equal to"
   ]
  },
  {
   "cell_type": "code",
   "execution_count": 36,
   "id": "b031a786",
   "metadata": {},
   "outputs": [
    {
     "name": "stdout",
     "output_type": "stream",
     "text": [
      "The matrix product of A1*A2 are equal to the array {'a'} in array_list\n"
     ]
    }
   ],
   "source": [
    "A1 = np.array([[1, -1], [-1, 1]])            \n",
    "A2 = np.array([[-1, 1], [1, -1]])\n",
    "\n",
    "a = np.array([[-2, 2], [2, -2]])\n",
    "b = np.array([[2, -2], [-2, 2]])\n",
    "c = np.array([[-2, 2], [-2, 2]])\n",
    "d = np.array([[-2,-2], [2, 2]])\n",
    "array_list = {'a': a, 'b': b, 'c': c, 'd': d}\n",
    "\n",
    "for array in array_list: \n",
    "    if np.all(A1 @ A2 == array_list[array]):\n",
    "        print (f\"The matrix product of A1*A2 are equal to the array, {array}, in array_list\")\n"
   ]
  },
  {
   "cell_type": "markdown",
   "id": "fbfb4124",
   "metadata": {},
   "source": [
    "**Chap 6. Question 1**- Find the inverses of the matrices"
   ]
  },
  {
   "cell_type": "code",
   "execution_count": 37,
   "id": "9c68d160",
   "metadata": {},
   "outputs": [
    {
     "name": "stdout",
     "output_type": "stream",
     "text": [
      "The inverse of A is \n",
      " [[ 5. -6.]\n",
      " [-4.  5.]]\n",
      "The inverse of B is \n",
      " [[ 0.5        -0.66666667]\n",
      " [-0.5         1.        ]]\n"
     ]
    }
   ],
   "source": [
    "A = np.array([[5, 6], [4, 5]])             \n",
    "B = np.array([[6, 4], [3, 3]])\n",
    " \n",
    "if np.linalg.det(A) !=0:\n",
    "    print(f\"The inverse of A is \\n\", np.linalg.inv(A))\n",
    "else:\n",
    "   \"Inverse doesn't exist\"\n",
    "\n",
    "if np.linalg.det(B) !=0:\n",
    "    print(f\"The inverse of B is \\n\", np.linalg.inv(B))\n",
    "else:\n",
    "   \"Inverse doesn't exist\""
   ]
  },
  {
   "cell_type": "markdown",
   "id": "574b6d18",
   "metadata": {},
   "source": [
    "**Quiz p.19, Question 3** p 15  - Which matrix is the inverse of A  "
   ]
  },
  {
   "cell_type": "code",
   "execution_count": 41,
   "id": "c4cc11eb",
   "metadata": {},
   "outputs": [
    {
     "name": "stdout",
     "output_type": "stream",
     "text": [
      "The inverse version of A is equal to a in array_list\n"
     ]
    }
   ],
   "source": [
    "A = np.array([[2, 2], [1, 2]])                      \n",
    "\n",
    "a = np.array([[2, -2], [-1, 2]]) \n",
    "b = np.array([[-2, 2], [1, -2]]) \n",
    "c = np.array([[2, 2], [-1, -2]]) \n",
    "d = np.array([[-2, -2], [1, 2]]) \n",
    "array_list = {'a': a, 'b': b, 'c': c, 'd': d}\n",
    "\n",
    "for array in array_list: \n",
    "    if np.allclose(np.linalg.inv(A), (0.5*array_list[array])):\n",
    "        print(f\"The inverse version of A is equal to {array} in array_list\")"
   ]
  },
  {
   "cell_type": "markdown",
   "id": "5de93779",
   "metadata": {},
   "source": [
    "**Chap10. Question 1 a)** - Using Gaussian elimination with back substitution, solve the following equations"
   ]
  },
  {
   "cell_type": "code",
   "execution_count": 45,
   "id": "e9a63544",
   "metadata": {},
   "outputs": [
    {
     "name": "stdout",
     "output_type": "stream",
     "text": [
      "Array based on the equations \n",
      " [[ 3 -7 -2 -7]\n",
      " [-3  5  1  5]\n",
      " [ 6 -4  0  2]]\n",
      "Gauss elimination\n",
      "[[ 3. -7. -2. -7.]\n",
      " [ 0. -2. -1. -2.]\n",
      " [ 6. -4.  0.  2.]]\n",
      "[[ 3. -7. -2. -7.]\n",
      " [ 0. -2. -1. -2.]\n",
      " [ 0. 10.  4. 16.]]\n",
      "The array in upper triangle form \n",
      " [[ 3. -7. -2. -7.]\n",
      " [ 0. -2. -1. -2.]\n",
      " [ 0.  0. -1.  6.]]\n",
      "Solution: x = [ 3.  4. -6.]\n"
     ]
    }
   ],
   "source": [
    "# (x1 −7x2 −2x3 = −7,)\n",
    "# (−3x1 + 5x2 + x3 = 5,)\n",
    "# (6x1 − 4x2 = 2.)\n",
    "   \n",
    "def RowScale(A,i,scale):                 # RowScale will return duplicate array with the entries of row k multiplied by scale\n",
    "    B = np.copy(A).astype('float64')\n",
    "    B[i, :] *= scale\n",
    "    return B\n",
    "\n",
    "def RowAdd(A,i,j,scale):                 # RowAdd will return a duplicate array where row i is added with a scaled row j\n",
    "    B = np.copy(A).astype('float64')    \n",
    "    scaled_row_j = B[j, :] * scale      \n",
    "    B[i, :] = B[i, :] + scaled_row_j   \n",
    "    return B                             \n",
    "\n",
    "A = np.array([[3, -7, -2, -7], [-3, 5, +1, 5],  [6, -4, 0, 2]])\n",
    "print(f\"Array based on the equations \\n\", A)\n",
    "print(\"Gauss elimination\")\n",
    "A1 = RowAdd(A,1,0,1)\n",
    "print(A1)\n",
    "A2 = RowAdd(A1,2,0,-2)\n",
    "print(A2)\n",
    "A3 = RowAdd(A2,2,1,5)\n",
    "print(f\"The array in upper triangle form \\n\",A3)\n",
    "\n",
    "# Back substitution function\n",
    "def back_substitution(A, b):\n",
    "    N = len(A)                                     # N counts the rumber of rows in the first array 3\n",
    "    x = np.zeros(N)                                # makes an array for x with the same number of rows as the array A \n",
    "    \n",
    "    for i in range(N-1,-1,-1):                     # iterates over the rows in reverse order from row 2 to 0 (ex. -1) one step\n",
    "        s = A[i,:] @ x                             # matrix multiplication for i'th row with x\n",
    "        if A[i,i] == 0:                            # checks if our determinant is zero\n",
    "            raise ValueError(\"Division with zero not allowed\")\n",
    "        else:\n",
    "            x[i] = (b[i] - s) / A[i,i]             # calculates x from last row and upwwards\n",
    "    return x\n",
    "\n",
    "# Change array to this form Ax=b (x is located in the back substition function)\n",
    "A4 = A3[:,0:3]\n",
    "a = A3[:,-1]\n",
    "\n",
    "solution_a = back_substitution(A4, a)\n",
    "print(f\"Solution: x =\", solution_a)  "
   ]
  },
  {
   "cell_type": "markdown",
   "id": "3f49e9e1",
   "metadata": {},
   "source": [
    "**Chap10. Question 1 b)**"
   ]
  },
  {
   "cell_type": "code",
   "execution_count": 46,
   "id": "6f6e72fb",
   "metadata": {},
   "outputs": [
    {
     "name": "stdout",
     "output_type": "stream",
     "text": [
      "Array based on the equations \n",
      " [[ 3 -7 -2 -7]\n",
      " [-3  5  1  5]\n",
      " [ 6 -4  0  2]]\n",
      "Gauss elimination\n",
      "[[ 1. -2.  3.  1.]\n",
      " [ 0.  1.  2.  0.]\n",
      " [ 2. -5.  5.  1.]]\n",
      "[[ 1. -2.  3.  1.]\n",
      " [ 0.  1.  2.  0.]\n",
      " [ 0. -1. -1. -1.]]\n",
      "Array in upper triangle form \n",
      " [[ 1. -2.  3.  1.]\n",
      " [ 0.  1.  2.  0.]\n",
      " [ 0.  0.  1. -1.]]\n",
      "Solution: x = [ 8.  2. -1.]\n"
     ]
    }
   ],
   "source": [
    "# x1 − 2x2 + 3x3 = 1,\n",
    "# −x1 + 3x2 − x3 = −1,\n",
    "# 2x1 − 5x2 + 5x3 = 1.\n",
    "\n",
    "B = np.array([[1, -2, 3, 1], [-1, 3, -1, -1],  [2, -5, 5, 1]])\n",
    "print(f\"Array based on the equations \\n\", A)\n",
    "\n",
    "print(\"Gauss elimination\")\n",
    "B1 = RowAdd(B,1,0,1)\n",
    "print(B1)\n",
    "B2 = RowAdd(B1,2,0,-2)\n",
    "print(B2)\n",
    "B3 = RowAdd(B2,2,1,1)\n",
    "print(f\"Array in upper triangle form \\n\", B3)\n",
    "\n",
    "# Change array to this form Ax=b (x is located in the back substition function)\n",
    "B4 = B3[:,0:3]\n",
    "b = B3[:,-1]\n",
    "\n",
    "# back substitution\n",
    "solution_b = back_substitution(B4, b)\n",
    "print(f\"Solution: x =\", solution_b)"
   ]
  },
  {
   "cell_type": "markdown",
   "id": "beb0a8af",
   "metadata": {},
   "source": [
    "**Chap 12. Question 1** - Compute the inverse of A"
   ]
  },
  {
   "cell_type": "code",
   "execution_count": 52,
   "id": "4fe15c46",
   "metadata": {},
   "outputs": [
    {
     "name": "stdout",
     "output_type": "stream",
     "text": [
      "Original array \n",
      " [[ 3 -7 -2  1  0  0]\n",
      " [-3  5  1  0  1  0]\n",
      " [ 6 -4  0  0  0  1]]\n",
      "Gauss elimination\n",
      "[[ 3. -7. -2.  1.  0.  0.]\n",
      " [ 0. -2. -1.  1.  1.  0.]\n",
      " [ 6. -4.  0.  0.  0.  1.]]\n",
      "[[ 3. -7. -2.  1.  0.  0.]\n",
      " [ 0. -2. -1.  1.  1.  0.]\n",
      " [ 0. 10.  4. -2.  0.  1.]]\n",
      "[[ 3. -7. -2.  1.  0.  0.]\n",
      " [ 0. -2. -1.  1.  1.  0.]\n",
      " [ 0.  0. -1.  3.  5.  1.]]\n",
      "[[ 3.   0.   1.5 -2.5 -3.5  0. ]\n",
      " [ 0.  -2.  -1.   1.   1.   0. ]\n",
      " [ 0.   0.  -1.   3.   5.   1. ]]\n",
      "[[ 3.   0.   1.5 -2.5 -3.5  0. ]\n",
      " [ 0.  -2.   0.  -2.  -4.  -1. ]\n",
      " [ 0.   0.  -1.   3.   5.   1. ]]\n",
      "[[ 3.   0.   0.   2.   4.   1.5]\n",
      " [ 0.  -2.   0.  -2.  -4.  -1. ]\n",
      " [ 0.   0.  -1.   3.   5.   1. ]]\n",
      "[[ 3.   0.   0.   2.   4.   1.5]\n",
      " [ 0.  -2.   0.  -2.  -4.  -1. ]\n",
      " [-0.  -0.   1.  -3.  -5.  -1. ]]\n",
      "[[ 3.   0.   0.   2.   4.   1.5]\n",
      " [-0.   1.  -0.   1.   2.   0.5]\n",
      " [-0.  -0.   1.  -3.  -5.  -1. ]]\n",
      "[[ 1.          0.          0.          0.66666667  1.33333333  0.5       ]\n",
      " [-0.          1.         -0.          1.          2.          0.5       ]\n",
      " [-0.         -0.          1.         -3.         -5.         -1.        ]]\n",
      "\n",
      "The inverse array of C is \n",
      " [[ 0.66666667  1.33333333  0.5       ]\n",
      " [ 1.          2.          0.5       ]\n",
      " [-3.         -5.         -1.        ]]\n"
     ]
    }
   ],
   "source": [
    "C = np.array([[3, -7, -2, 1, 0, 0], [-3, 5, 1, 0, 1, 0], [6, -4, 0, 0, 0, 1]])\n",
    "print(f\"Original array \\n {C}\")\n",
    "\n",
    "print(\"Gauss elimination\")\n",
    "C1 = RowAdd(C,1,0,1)\n",
    "print(C1)\n",
    "C2 = RowAdd(C1,2,0,-2)\n",
    "print(C2)\n",
    "C3 = RowAdd(C2,2,1,5)\n",
    "print(C3)\n",
    "C4 = RowAdd(C3,0,1,-3.5)\n",
    "print(C4)\n",
    "C5 = RowAdd(C4,1,2,-1)\n",
    "print(C5)\n",
    "C6 = RowAdd(C5,0,2,1.5)\n",
    "print(C6)\n",
    "C7 = RowScale(C6,2,-1)\n",
    "print(C7)\n",
    "C8 = RowScale(C7,1,-0.5)\n",
    "print(C8)\n",
    "C9 = RowScale(C8,0,1/3)\n",
    "print(C9)\n",
    "print()\n",
    "\n",
    "Ci = np.copy(C9[:, 3:])\n",
    "print(f\"The inverse array of C is \\n\", Ci)"
   ]
  },
  {
   "cell_type": "markdown",
   "id": "6a4a524f",
   "metadata": {},
   "source": [
    "½### Copies and Views\n",
    "Read the following link: https://numpy.org/doc/stable/user/basics.copies.html"
   ]
  },
  {
   "cell_type": "markdown",
   "id": "6cbbeaf7",
   "metadata": {},
   "source": [
    "**Basic indexing creates a view, How can you check if v1 and v2 is a view or copy? If you change the last element in v2 to 123, will the last element in v1 be changed? Why?**"
   ]
  },
  {
   "cell_type": "code",
   "execution_count": 53,
   "id": "5b9ef4df",
   "metadata": {},
   "outputs": [
    {
     "name": "stdout",
     "output_type": "stream",
     "text": [
      "[0 1 2 3]\n",
      "[2 3]\n"
     ]
    }
   ],
   "source": [
    "v1 = np.arange(4)\n",
    "v2 = v1[-2:]   \n",
    "print(v1)\n",
    "print(v2)"
   ]
  },
  {
   "cell_type": "code",
   "execution_count": 54,
   "id": "d2440489",
   "metadata": {},
   "outputs": [
    {
     "name": "stdout",
     "output_type": "stream",
     "text": [
      "v1.base = none - v1 is an original\n",
      "v2.base does not equal none - v2 is a view\n"
     ]
    }
   ],
   "source": [
    "# The base attribute of a view returns the original array while it returns None for a copy.\n",
    "# print(v1.base)\n",
    "# print(v2.base)\n",
    "\n",
    "if v1.base is None:                               \n",
    "    print(\"v1.base = none - v1 is an original\")\n",
    "else:\n",
    "    print(\"v1.base = an array - v1 is a view\")\n",
    "        \n",
    "if v2.base is None:\n",
    "    print(\"v2.base = none - v2 is an original\")\n",
    "else:\n",
    "    print(\"v2.base does not equal none - v2 is a view\")"
   ]
  },
  {
   "cell_type": "code",
   "execution_count": 55,
   "id": "3dd68221",
   "metadata": {},
   "outputs": [
    {
     "name": "stdout",
     "output_type": "stream",
     "text": [
      "v2 array = [  2 123]\n",
      "v1 array = [  0   1   2 123]\n",
      "v2 is only a view, therefore changes applied to v2 will change the original as well.\n",
      "And changes to v1 will change the view\n"
     ]
    }
   ],
   "source": [
    "# We change the last element in v2\n",
    "v2[-1] = 123\n",
    "print(f\"v2 array =\", v2)         \n",
    "# We check that v1 has changed as well\n",
    "print(f\"v1 array =\", v1)\n",
    "print(\"v2 is only a view, therefore changes applied to v2 will change the original as well.\")\n",
    "print(\"And changes to v1 will change the view\")"
   ]
  }
 ],
 "metadata": {
  "kernelspec": {
   "display_name": "Python 3 (ipykernel)",
   "language": "python",
   "name": "python3"
  },
  "language_info": {
   "codemirror_mode": {
    "name": "ipython",
    "version": 3
   },
   "file_extension": ".py",
   "mimetype": "text/x-python",
   "name": "python",
   "nbconvert_exporter": "python",
   "pygments_lexer": "ipython3",
   "version": "3.11.4"
  }
 },
 "nbformat": 4,
 "nbformat_minor": 5
}
